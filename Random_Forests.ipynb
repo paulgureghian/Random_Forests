{
  "nbformat": 4,
  "nbformat_minor": 0,
  "metadata": {
    "colab": {
      "name": "Random_Forests.ipynb",
      "version": "0.3.2",
      "provenance": [],
      "collapsed_sections": [],
      "include_colab_link": true
    },
    "kernelspec": {
      "name": "python3",
      "display_name": "Python 3"
    }
  },
  "cells": [
    {
      "cell_type": "markdown",
      "metadata": {
        "id": "view-in-github",
        "colab_type": "text"
      },
      "source": [
        "<a href=\"https://colab.research.google.com/github/paulgureghian/Random_Forests/blob/master/Random_Forests.ipynb\" target=\"_parent\"><img src=\"https://colab.research.google.com/assets/colab-badge.svg\" alt=\"Open In Colab\"/></a>"
      ]
    },
    {
      "metadata": {
        "id": "VltjGb97vKnC",
        "colab_type": "text"
      },
      "cell_type": "markdown",
      "source": [
        "### **Created by Paul A. Gureghian in April 2019.**\n",
        "\n",
        "### **This scientific notebook covers a Supervised Learning Algorithm: Random Forests.**"
      ]
    },
    {
      "metadata": {
        "id": "bX2nUTnhuFCI",
        "colab_type": "code",
        "colab": {}
      },
      "cell_type": "code",
      "source": [
        "### Import packages\n",
        "import pandas as pd\n",
        "from sklearn.ensemble import RandomForestClassifier\n",
        "from sklearn.model_selection import train_test_split"
      ],
      "execution_count": 0,
      "outputs": []
    },
    {
      "metadata": {
        "id": "evLRPKLG1yVh",
        "colab_type": "code",
        "outputId": "2cd8e789-e2b8-447a-8f06-dc2ccf3082a3",
        "colab": {
          "base_uri": "https://localhost:8080/",
          "height": 510
        }
      },
      "cell_type": "code",
      "source": [
        "### Load dataset and define the Feature and Target variables\n",
        "df = pd.read_csv('https://ibm.box.com/shared/static/q6iiqb1pd7wo8r3q28jvgsrprzezjqk3.csv')\n",
        "print(df.head())\n",
        "\n",
        "X = df[['horsepower', 'normalized-losses']]\n",
        "y = df['price'] "
      ],
      "execution_count": 7,
      "outputs": [
        {
          "output_type": "stream",
          "text": [
            "   Unnamed: 0  symboling  normalized-losses         make aspiration  \\\n",
            "0           0          3                122  alfa-romero        std   \n",
            "1           1          3                122  alfa-romero        std   \n",
            "2           2          1                122  alfa-romero        std   \n",
            "3           3          2                164         audi        std   \n",
            "4           4          2                164         audi        std   \n",
            "\n",
            "  num-of-doors   body-style drive-wheels engine-location  wheel-base ...   \\\n",
            "0          two  convertible          rwd           front        88.6 ...    \n",
            "1          two  convertible          rwd           front        88.6 ...    \n",
            "2          two    hatchback          rwd           front        94.5 ...    \n",
            "3         four        sedan          fwd           front        99.8 ...    \n",
            "4         four        sedan          4wd           front        99.4 ...    \n",
            "\n",
            "   compression-ratio  horsepower  peak-rpm  city-mpg highway-mpg    price  \\\n",
            "0                9.0       111.0    5000.0        21          27  13495.0   \n",
            "1                9.0       111.0    5000.0        21          27  16500.0   \n",
            "2                9.0       154.0    5000.0        19          26  16500.0   \n",
            "3               10.0       102.0    5500.0        24          30  13950.0   \n",
            "4                8.0       115.0    5500.0        18          22  17450.0   \n",
            "\n",
            "   city-L/100km horsepower-binned  diesel  gas  \n",
            "0     11.190476            Medium       0    1  \n",
            "1     11.190476            Medium       0    1  \n",
            "2     12.368421            Medium       0    1  \n",
            "3      9.791667            Medium       0    1  \n",
            "4     13.055556            Medium       0    1  \n",
            "\n",
            "[5 rows x 30 columns]\n"
          ],
          "name": "stdout"
        }
      ]
    },
    {
      "metadata": {
        "id": "Whtq2qbW4Luv",
        "colab_type": "code",
        "outputId": "12ceef05-1d1c-42e2-a022-fa90aad8b48f",
        "colab": {
          "base_uri": "https://localhost:8080/",
          "height": 85
        }
      },
      "cell_type": "code",
      "source": [
        "### Split the dataset into 'Train' and 'Test' sets\n",
        "X_train, X_test, y_train, y_test = train_test_split(X, y, random_state=0)\n",
        "\n",
        "print('X_train shape', X_train.shape)\n",
        "print('X_test shape', X_test.shape)\n",
        "print('y_train shape', y_train.shape)\n",
        "print('y_test shape', y_test.shape)\n"
      ],
      "execution_count": 8,
      "outputs": [
        {
          "output_type": "stream",
          "text": [
            "X_train shape (150, 2)\n",
            "X_test shape (51, 2)\n",
            "y_train shape (150,)\n",
            "y_test shape (51,)\n"
          ],
          "name": "stdout"
        }
      ]
    },
    {
      "metadata": {
        "id": "uM60ZnGQ8oy0",
        "colab_type": "code",
        "colab": {}
      },
      "cell_type": "code",
      "source": [
        "### Define and train the model\n",
        "clf = RandomForestClassifier(max_features=2, random_state=0).fit(X_train, y_train)"
      ],
      "execution_count": 0,
      "outputs": []
    },
    {
      "metadata": {
        "id": "GQENdHsF9uXw",
        "colab_type": "code",
        "outputId": "4d8e024e-5d8e-4640-931e-bab257cd4317",
        "colab": {
          "base_uri": "https://localhost:8080/",
          "height": 51
        }
      },
      "cell_type": "code",
      "source": [
        "### Get model accuracy scores\n",
        "print('Accuracy of RF classifier on training set: {:.2f}'.format(clf.score(X_train, y_train)))\n",
        "print('Accuracy of RF classifier on testing set: {:.2f}'.format(clf.score(X_test, y_test)))               "
      ],
      "execution_count": 10,
      "outputs": [
        {
          "output_type": "stream",
          "text": [
            "Accuracy of RF classifier on training set: 0.66\n",
            "Accuracy of RF classifier on testing set: 0.02\n"
          ],
          "name": "stdout"
        }
      ]
    }
  ]
}